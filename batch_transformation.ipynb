{
 "cells": [
  {
   "cell_type": "markdown",
   "metadata": {},
   "source": [
    "# Batch Transformation"
   ]
  },
  {
   "cell_type": "code",
   "execution_count": null,
   "metadata": {},
   "outputs": [],
   "source": [
    "from datetime import datetime\n",
    "\n",
    "date_today = datetime.today().strftime('%Y-%m-%d')\n",
    "\n",
    "year = date_today[0:4]\n",
    "month = date_today[5:7]\n",
    "day = date_today[8:10]"
   ]
  },
  {
   "cell_type": "code",
   "execution_count": null,
   "metadata": {},
   "outputs": [],
   "source": [
    "import sagemaker\n",
    "from sagemaker import get_execution_role, image_uris\n",
    "\n",
    "role = get_execution_role()\n",
    "\n",
    "sess = sagemaker.Session()\n",
    "\n",
    "training_image = image_uris.retrieve(\n",
    "    region = sess.boto_region_name, framework = \"object-detection\", version = \"1\"\n",
    ")\n",
    "\n",
    "print(training_image)"
   ]
  },
  {
   "cell_type": "code",
   "execution_count": null,
   "metadata": {},
   "outputs": [],
   "source": [
    "model = sagemaker.model.Model(\n",
    "    image_uri = training_image,\n",
    "    model_data = 'model_path',\n",
    "    role = role\n",
    "\n",
    ")"
   ]
  },
  {
   "cell_type": "markdown",
   "metadata": {},
   "source": [
    "Batch Transformation"
   ]
  },
  {
   "cell_type": "code",
   "execution_count": null,
   "metadata": {},
   "outputs": [],
   "source": [
    "#output files\n",
    "transformer = model.transformer(\n",
    "    instance_count = 1,\n",
    "    output_path = f'path of the S3 bucket folder to put batch files',\n",
    "    instance_type = 'ml.m4.xlarge'\n",
    ")"
   ]
  },
  {
   "cell_type": "code",
   "execution_count": null,
   "metadata": {},
   "outputs": [],
   "source": [
    "sample_data_bucket = ''\n",
    "input_file_path = f'images/{year}/{month}/{day}'\n",
    "\n",
    "# input files\n",
    "transformer.transform(\n",
    "    \"s3://{}/{}\".format(sample_data_bucket,input_file_path), content_type = \"image/jpeg\"\n",
    ")"
   ]
  },
  {
   "cell_type": "markdown",
   "metadata": {},
   "source": [
    "Checking the output files"
   ]
  },
  {
   "cell_type": "code",
   "execution_count": null,
   "metadata": {},
   "outputs": [],
   "source": [
    "print(transformer.output_path)"
   ]
  },
  {
   "cell_type": "code",
   "execution_count": null,
   "metadata": {},
   "outputs": [],
   "source": [
    "from datetime import datetime\n",
    "\n",
    "date_today = datetime.today().strftime('%Y-%m-%d')\n",
    "\n",
    "year = date_today[0:4]\n",
    "month = date_today[5:7]\n",
    "day = date_today[8:10]\n",
    "\n",
    "print(date_today)"
   ]
  },
  {
   "cell_type": "code",
   "execution_count": null,
   "metadata": {},
   "outputs": [],
   "source": [
    "s3 = boto3.resource('s3')\n",
    "\n",
    "my_bucket = s3.Bucket('plastic-detection-batch-transform-2023')\n",
    "\n",
    "files = []\n",
    "\n",
    "\n",
    "for object_summary in my_bucket.objects.filter(Prefix = f'batch-output/{year}/{month}/{day}'):\n",
    "    print(object_summary)\n",
    "    out_file = object_summary.key[24:]\n",
    "    files.append(out_file)\n",
    "print(files)"
   ]
  },
  {
   "cell_type": "markdown",
   "metadata": {},
   "source": []
  }
 ],
 "metadata": {
  "language_info": {
   "name": "python"
  }
 },
 "nbformat": 4,
 "nbformat_minor": 2
}
