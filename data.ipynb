{
 "cells": [
  {
   "cell_type": "markdown",
   "metadata": {},
   "source": [
    "### Plastic Object Detection with AWS Sagemaker AI pipeline"
   ]
  },
  {
   "cell_type": "markdown",
   "metadata": {},
   "source": [
    "### Step 1: Setting up IAM User in AWS for separate workflow from root user\n",
    "\n",
    "1. Add user in IAM Service\n",
    "2. While generating the IAM user give console password, access key, secret access key (this can be given later as well), then attach the policies (grant action) to the iam user\n",
    "3. After generating the user, an excel file with credentials is created, with this you can login and then change the password. \n",
    "4. The whole project is implemented in a IAM user id "
   ]
  },
  {
   "cell_type": "markdown",
   "metadata": {},
   "source": [
    "### Step 2: Getting Data from Open Image Dataset\n",
    "\n",
    "Source: https://storage.googleapis.com/openimages/web/index.html\n",
    "\n",
    "1. Downloading data in Google Colab using voxel51 package fiftyone\n",
    "2. Google colab link: https://colab.research.google.com/drive/1vScFBPpl22axNbXwf_mAdlkPm7QHCeeE#scrollTo=3bpbk5FauuXL\n",
    "3. With the code the zip files are downloaded which will be loaded in sagemaker"
   ]
  },
  {
   "cell_type": "markdown",
   "metadata": {},
   "source": [
    "### Step 3: Setting up AWS Sagemaker\n",
    "\n",
    "1. Create a Domain with Quick Set up, https://youtu.be/kcuyovwbznY?si=7N-fw3pU7PMYgi80\n",
    "2. Create a Sagemaker Notebook using the user created in domain\n",
    "3. Go to user profile in domain, then you have to click launch Studio which will start the notebook\n",
    "4. To start and shut off the kernel instance, it is done from inside Jupyterlab and its necessary to do everytime you close the notebook\n",
    "5. Upload the zip files generated from google colab\n",
    "6. Use the following code to extract data from zip file, package zipfile\n",
    "7. Delete the zips, since every thing is stored in EFS (Elastic file system)\n"
   ]
  },
  {
   "cell_type": "markdown",
   "metadata": {},
   "source": [
    "Extract Zip files"
   ]
  },
  {
   "cell_type": "code",
   "execution_count": null,
   "metadata": {},
   "outputs": [],
   "source": [
    "import zipfile\n",
    "\n",
    "zip_file_paths = ['trainImages.zip', 'validationImages.zip']\n",
    "\n",
    "for path in zip_file_paths:\n",
    "    name = str(path)\n",
    "    with zipfile.ZipFile(path, 'r') as zip_ref:\n",
    "        zip_ref.extractall(f'unzipped/{name.split(\".\")[0]}')"
   ]
  },
  {
   "cell_type": "markdown",
   "metadata": {},
   "source": [
    "Create Datasets"
   ]
  },
  {
   "cell_type": "code",
   "execution_count": null,
   "metadata": {},
   "outputs": [],
   "source": [
    "import pandas as pd\n",
    "\n",
    "df_validation = pd.read_csv('detections.csv path')\n",
    "df_validation.head()\n",
    "\n",
    "import pandas as pd\n",
    "\n",
    "df_train = pd.read_csv('detections.csv path')\n",
    "df_train.head()"
   ]
  },
  {
   "cell_type": "markdown",
   "metadata": {},
   "source": [
    "Finding Number of Images in Folder: GLOB"
   ]
  },
  {
   "cell_type": "code",
   "execution_count": null,
   "metadata": {},
   "outputs": [],
   "source": [
    "import glob\n",
    "counter = 0\n",
    "\n",
    "img_paths = data_path_train\n",
    "folder = glob.glob(img_paths)\n",
    "\n",
    "for i in folder:\n",
    "    counter+=1\n",
    "print(counter)"
   ]
  }
 ],
 "metadata": {
  "language_info": {
   "name": "python"
  }
 },
 "nbformat": 4,
 "nbformat_minor": 2
}
