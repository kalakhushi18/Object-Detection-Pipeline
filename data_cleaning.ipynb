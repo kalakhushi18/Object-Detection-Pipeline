{
 "cells": [
  {
   "cell_type": "markdown",
   "metadata": {},
   "source": [
    "# Cleaning Dataset"
   ]
  },
  {
   "cell_type": "markdown",
   "metadata": {},
   "source": [
    "Cleaning dataset to keep on Plastic Objects"
   ]
  },
  {
   "cell_type": "code",
   "execution_count": null,
   "metadata": {},
   "outputs": [],
   "source": [
    "def clean_dataframe(df_for_train,df_for_validation):\n",
    "    df_train_cleansed = df_train[df_train['LabelName'].str.contains('/m/05gqfk')]\n",
    "    df_validation_cleansed = df_validation[df_validation['LabelName'].str.contains('/m/05gqfk')]\n",
    "    \n",
    "    return df_train_cleansed, df_validation_cleansed\n",
    "\n",
    "df_train_cleansed, df_validation_cleansed = clean_dataframe(df_train, df_validation)"
   ]
  },
  {
   "cell_type": "markdown",
   "metadata": {},
   "source": [
    "Splitting Dataset"
   ]
  },
  {
   "cell_type": "code",
   "execution_count": null,
   "metadata": {},
   "outputs": [],
   "source": [
    "from sklearn.model_selection import train_test_split\n",
    "\n",
    "\n",
    "train, test = train_test_split(df_train_cleansed, test_size = 0.2, random_state = 42)"
   ]
  },
  {
   "cell_type": "markdown",
   "metadata": {},
   "source": [
    "Moving Images from train dir to test"
   ]
  },
  {
   "cell_type": "code",
   "execution_count": null,
   "metadata": {},
   "outputs": [],
   "source": [
    "test_ids = test[\"ImageID\"].values.tolist()\n",
    "train_ids = train[\"ImageID\"].values.tolist()"
   ]
  },
  {
   "cell_type": "code",
   "execution_count": null,
   "metadata": {},
   "outputs": [],
   "source": [
    "# moving the ids which are only in test and copying the one which are in both, since one images contains multiple bb\n",
    "import shutil\n",
    "import glob\n",
    "\n",
    "to_loop = ''\n",
    "folder = glob.glob(to_loop)\n",
    "\n",
    "new_path = ''\n",
    "\n",
    "for path in folder:\n",
    "    id = path[26:42]\n",
    "    if ((id in test_ids)and (id in train_ids)):\n",
    "        shutil.copy(path, f\"{new_path}/{id}.jpg\")\n",
    "    elif ((id in test_ids) and (id not in train_ids)):\n",
    "        shutil.move(path, f\"{new_path}/{id}.jpg\")"
   ]
  },
  {
   "cell_type": "markdown",
   "metadata": {},
   "source": [
    "Calculating Number of Images"
   ]
  },
  {
   "cell_type": "code",
   "execution_count": null,
   "metadata": {},
   "outputs": [],
   "source": [
    "path_to_test = ''\n",
    "\n",
    "folder = glob.glob(path_to_test)\n",
    "\n",
    "counter = 0\n",
    "\n",
    "for i in folder:\n",
    "    counter +=1\n",
    "print(counter)\n"
   ]
  }
 ],
 "metadata": {
  "language_info": {
   "name": "python"
  }
 },
 "nbformat": 4,
 "nbformat_minor": 2
}
