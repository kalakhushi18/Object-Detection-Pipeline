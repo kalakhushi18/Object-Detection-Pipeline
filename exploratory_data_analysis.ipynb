{
 "cells": [
  {
   "cell_type": "markdown",
   "metadata": {},
   "source": [
    "# EDA "
   ]
  },
  {
   "cell_type": "markdown",
   "metadata": {},
   "source": [
    "Getting Image ids: "
   ]
  },
  {
   "cell_type": "code",
   "execution_count": null,
   "metadata": {},
   "outputs": [],
   "source": [
    "#Get image ids:\n",
    "\n",
    "import glob\n",
    "\n",
    "train_list_ids = []\n",
    "validation_list_ids = []\n",
    "\n",
    "def get_ids(split, print_this, to_append_list):\n",
    "    start = 0\n",
    "    end = 0\n",
    "    if split == data_path_train:\n",
    "        start,end = 26,42\n",
    "    elif split == data_path_validation:\n",
    "        start,end = 31,47\n",
    "    else:\n",
    "        raise Exception(\"Invalid Parameter\")\n",
    "    folder = split\n",
    "    img_paths = glob.glob(folder)\n",
    "    img_ids = to_append_list\n",
    "    \n",
    "    for i in img_paths:\n",
    "        id = i[start:end]\n",
    "        img_ids.append(id)\n",
    "    print(len(img_ids))\n",
    "    print(print_this)\n",
    "    "
   ]
  },
  {
   "cell_type": "markdown",
   "metadata": {},
   "source": [
    "Getting the class for Plastic bag"
   ]
  },
  {
   "cell_type": "code",
   "execution_count": null,
   "metadata": {},
   "outputs": [],
   "source": [
    "train_classes_df = pd.read_csv(\"path_to_classes.csv\",names = ['className','Object'])\n",
    "validation_classes_df = pd.read_csv(\"path_to_classes.csv\",names = ['className','Object'])\n",
    "\n",
    "train_identifer = train_classes_df[train_classes_df['Object'] == 'Plastic bag']\n",
    "validation_identifer = validation_classes_df[validation_classes_df['Object'] == 'Plastic bag']\n",
    "\n",
    "print(train_identifer)\n",
    "print('------------')\n",
    "print(validation_identifer)"
   ]
  },
  {
   "cell_type": "markdown",
   "metadata": {},
   "source": [
    "Visualizing Images of Plastic Bag"
   ]
  },
  {
   "cell_type": "code",
   "execution_count": null,
   "metadata": {},
   "outputs": [],
   "source": [
    "import matplotlib.pyplot as plt\n",
    "import matplotlib.image as mpimg\n",
    "import random\n",
    "from PIL import Image\n",
    "import glob\n",
    "\n",
    "validation_images_path = \"\"#9\n",
    "train_images_path = \"\"#517\n",
    "\n",
    "\n",
    "def visualize_random_image(split):\n",
    "    split_path = train_images_path if split == 'train' else validation_images_path if split == 'validation' else 0\n",
    "    if split_path == 0:\n",
    "        raise Exception(\"Invalid input parameter, must be either train or validation\")\n",
    "    images_folder = split_path\n",
    "    images_paths = glob.glob(images_folder)\n",
    "    num_of_images = len(images_paths)\n",
    "    random_int = random.randint(0,num_of_images -1)\n",
    "    random_image = images_paths[random_int]\n",
    "    img = mpimg.imread(random_image)\n",
    "    \n",
    "    #create the figure and axes\n",
    "    fig,ax = plt.subplots()\n",
    "    ax.imshow(img)\n",
    "    plt.imshow(img)\n",
    "    plt.show()\n",
    "  \n",
    "        \n",
    "        \n",
    "    \n",
    "visualize_random_image(\"train\")"
   ]
  },
  {
   "cell_type": "markdown",
   "metadata": {},
   "source": [
    "Uderstanding Bounding Box Concept"
   ]
  },
  {
   "cell_type": "code",
   "execution_count": null,
   "metadata": {},
   "outputs": [],
   "source": [
    "image_width, image_height = im.size\n",
    "\n",
    "#new coordinates\n",
    "\n",
    "xmin = 0.377083 * image_width\n",
    "xmax = 0.745833 * image_width\n",
    "ymin = 0.778125 * image_height\n",
    "ymax = 0.96875 * image_height\n",
    "\n",
    "width = xmax - xmin\n",
    "height = ymax - ymin\n",
    "\n",
    "rect = patches.Rectangle((xmin,ymin), width, height, linewidth = 1, edgecolor = 'r', facecolor = 'none')\n",
    "\n",
    "ax.add_patch(rect)\n",
    "plt.show()"
   ]
  },
  {
   "cell_type": "markdown",
   "metadata": {},
   "source": [
    "Visualizing Bounding Box"
   ]
  },
  {
   "cell_type": "code",
   "execution_count": null,
   "metadata": {},
   "outputs": [],
   "source": [
    "import matplotlib.pyplot as plt\n",
    "import matplotlib.image as mpimg\n",
    "import matplotlib.patches as patches\n",
    "import random\n",
    "import glob\n",
    "from PIL import Image\n",
    "\n",
    "validation_images_path = \"\"#9\n",
    "train_images_path = \"\"#517\n",
    "\n",
    "\n",
    "def visualize_bb(dataset):\n",
    "    images_path = train_images_path if dataset == 'train' else validation_images_path if dataset == 'validation' else 0\n",
    "    if dataset == 0:\n",
    "        raise Exception(\"Invalid input parameter, must be either train or validation\")\n",
    "    \n",
    "    start = 0\n",
    "    end = 0\n",
    "    \n",
    "    if dataset == 'train':\n",
    "        start, end, df, split = 26, 42, df_train, \"trainImages\"\n",
    "    elif dataset == 'validation':\n",
    "        start, end, df, split = 31, 47, df_validation, \"validationImages\"\n",
    "    else:\n",
    "        raise Exception(\"Invalid parameter\")\n",
    "    \n",
    "    image_folder = images_path\n",
    "    images_paths = glob.glob(image_folder)\n",
    "    num_of_images = len(images_paths)\n",
    "    random_int = random.randint(0, num_of_images -1)\n",
    "    random_image = images_paths[random_int]\n",
    "    #print(random_image)\n",
    "    img = Image.open(random_image)\n",
    "    id_of_image = random_image[start:end]\n",
    "    \n",
    "    df_rows = df.loc[(df.ImageID == id_of_image) & (df.LabelName == '/m/05gqfk')]\n",
    "    \n",
    "    image_width, image_height = img.size\n",
    "    \n",
    "    fig ,ax = plt.subplots()\n",
    "    ax.imshow(img)\n",
    "    \n",
    "    \n",
    "    for index, row in df_rows.iterrows():\n",
    "        print(row['XMin'], row['XMax'], row['YMin'], row['YMax'])\n",
    "        \n",
    "        xmin = row['XMin']\n",
    "        xmax = row['XMax']\n",
    "        ymin = row['YMin']\n",
    "        ymax = row['YMax']\n",
    "        \n",
    "        new_xmin = xmin * image_width\n",
    "        new_xmax = xmax * image_width\n",
    "        new_ymin = ymin * image_height\n",
    "        new_ymax = ymax * image_height\n",
    "        print(new_xmin,new_xmax,new_ymin,new_ymax)\n",
    "        \n",
    "        \n",
    "        width = new_xmax - new_xmin\n",
    "        height = new_ymax - new_ymin\n",
    "        \n",
    "        rect = patches.Rectangle((new_xmin,new_ymin), width, height, linewidth = 1, edgecolor = 'r', facecolor = 'none')\n",
    "        ax.add_patch(rect)\n",
    "    plt.show()\n",
    "    \n",
    "visualize_bb(\"train\")"
   ]
  },
  {
   "cell_type": "markdown",
   "metadata": {},
   "source": []
  }
 ],
 "metadata": {
  "language_info": {
   "name": "python"
  }
 },
 "nbformat": 4,
 "nbformat_minor": 2
}
