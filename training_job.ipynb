{
 "cells": [
  {
   "cell_type": "markdown",
   "metadata": {},
   "source": [
    "# Training Job in AWS"
   ]
  },
  {
   "cell_type": "markdown",
   "metadata": {},
   "source": [
    "Installing packages"
   ]
  },
  {
   "cell_type": "code",
   "execution_count": null,
   "metadata": {},
   "outputs": [],
   "source": [
    "import distro \n",
    "import os\n",
    "if distro.id() in [\"debian\", \"ubuntu\"]:\n",
    "    os.system(\"sudo apt-get update\")\n",
    "    os.system(\"sudo apt-get install ffmpeg libsm6 libxext6 -y\")\n",
    "\n",
    "import sys\n",
    "!{sys.executable} -m pip install opencv-python\n",
    "!{sys.executable} -m pip install --upgrade mxnet\n",
    "!{sys.executable} -m pip install numpy==1.23.5\n",
    "\n",
    "!sudo apt-get update && apt-get install -y libgl1-mesa-glx"
   ]
  },
  {
   "cell_type": "markdown",
   "metadata": {},
   "source": [
    "Resizing the Images"
   ]
  },
  {
   "cell_type": "code",
   "execution_count": null,
   "metadata": {},
   "outputs": [],
   "source": [
    "RESIZE_SIZE = 256\n",
    "BASE_DIR = \"PlasticDetection/\""
   ]
  },
  {
   "cell_type": "markdown",
   "metadata": {},
   "source": [
    "Converting to .lst to  rec format files for train and test"
   ]
  },
  {
   "cell_type": "code",
   "execution_count": null,
   "metadata": {},
   "outputs": [],
   "source": [
    "!python tools/im2rec.py --resize $RESIZE_SIZE --pack-label test $BASE_DIR/images/\n",
    "!python tools/im2rec.py --resize $RESIZE_SIZE --pack-label train $BASE_DIR/images/"
   ]
  },
  {
   "cell_type": "markdown",
   "metadata": {},
   "source": [
    "Uploading rec files to S3 bucket"
   ]
  },
  {
   "cell_type": "code",
   "execution_count": null,
   "metadata": {},
   "outputs": [],
   "source": [
    "import sagemaker\n",
    "from sagemaker import get_execution_role\n",
    "\n",
    "bucket = \"object-detection-udemy\"\n",
    "prefix = \"DEMO-objectDetection\"\n",
    "\n",
    "\n",
    "role = get_execution_role()\n",
    "\n",
    "sess = sagemaker.Session()\n",
    "\n",
    "train_channel = prefix + \"/train\"\n",
    "\n",
    "sess.upload_data(path= \"train.rec\", bucket = bucket, key_prefix = train_channel)\n",
    "\n",
    "s3_train_data = \"s3://{}/{}\".format(bucket,train_channel)\n",
    "\n",
    "validation_channel = prefix + \"/validation\"\n",
    "\n",
    "sess.upload_data(path= \"test.rec\", bucket = bucket, key_prefix = validation_channel)\n",
    "\n",
    "s3_validation_data = \"s3://{}/{}\".format(bucket,validation_channel)\n",
    "\n",
    "s3_output_location =  \"s3://{}/{}/output\".format(bucket, prefix)\n",
    "print(s3_output_location)"
   ]
  },
  {
   "cell_type": "markdown",
   "metadata": {},
   "source": [
    "Downloading the AWS Object detection Algorithm "
   ]
  },
  {
   "cell_type": "code",
   "execution_count": null,
   "metadata": {},
   "outputs": [],
   "source": [
    "from sagemaker import image_uris\n",
    "\n",
    "training_image = image_uris.retrieve(\n",
    "    region = sess.boto_region_name, framework = \"object-detection\", version = \"1\"\n",
    ")\n",
    "\n",
    "print(training_image)"
   ]
  },
  {
   "cell_type": "markdown",
   "metadata": {},
   "source": [
    "Creating Object Model"
   ]
  },
  {
   "cell_type": "code",
   "execution_count": null,
   "metadata": {},
   "outputs": [],
   "source": [
    "od_model = sagemaker.estimator.Estimator(\n",
    "    training_image,\n",
    "    role,\n",
    "    instance_count = 1,\n",
    "    instance_type = \"ml.p3.2xlarge\",  #gpu \n",
    "    volume_size = 50,\n",
    "    max_run = 360000,\n",
    "    input_mode = \"File\",\n",
    "    output_path = s3_output_location,\n",
    "    sagemaker_session = sess,)"
   ]
  },
  {
   "cell_type": "markdown",
   "metadata": {},
   "source": [
    "Setting Hyperparameters\n",
    "\n",
    "Source: https://docs.aws.amazon.com/sagemaker/latest/dg/object-detection-api-config.html"
   ]
  },
  {
   "cell_type": "code",
   "execution_count": null,
   "metadata": {},
   "outputs": [],
   "source": [
    "def set_hyperparameters(num_epochs, lr_steps):\n",
    "    num_classes = 1\n",
    "    num_training_samples = 898\n",
    "    \n",
    "    od_model.set_hyperparameters(\n",
    "        base_network = \"resnet-50\",  #cnn model arch for images\n",
    "        use_pretrained_model = 1,    #transfer learning\n",
    "        num_classes = num_classes,   # 1 class for plastic detection \n",
    "        epochs = num_epochs,         # how many times the training loop will repeat over images\n",
    "        lr_scheduler_step = lr_steps, # at these steps the lr will decrease \n",
    "        lr_scheduler_factor = 0.1,    #factor of decrease\n",
    "        momentum = 0.9,               # for sgd optim\n",
    "        weight_decay = 0.0005,\n",
    "        nms_threshold = 0.45,\n",
    "        image_shape = 512,\n",
    "        num_training_samples = 898   #num of training samples\n",
    "    )\n",
    "\n",
    "set_hyperparameters(100, \"50,70,80,90,95\")"
   ]
  },
  {
   "cell_type": "markdown",
   "metadata": {},
   "source": [
    "### Hyperparameter Tuning"
   ]
  },
  {
   "cell_type": "code",
   "execution_count": null,
   "metadata": {},
   "outputs": [],
   "source": [
    "from sagemaker.tuner import CategoricalParameter, ContinuousParameter, HyperparameterTuner\n",
    "\n",
    "\n",
    "hyperparameter_ranges = {\"learning_rate\": ContinuousParameter(0.001,0.1),\n",
    "    \"mini_batch_size\": CategoricalParameter([8,16]),\n",
    "    \"optimizer\": CategoricalParameter([\"sgd\",\"adam\"])   \n",
    "\n",
    "}"
   ]
  },
  {
   "cell_type": "markdown",
   "metadata": {},
   "source": [
    "Setting Tuner: MAP (Mean average precision as the evaluation metric)\n",
    "\n",
    "Source: https://jonathan-hui.medium.com/map-mean-average-precision-for-object-detection-45c121a31173"
   ]
  },
  {
   "cell_type": "code",
   "execution_count": null,
   "metadata": {},
   "outputs": [],
   "source": [
    "max_jobs = 8  # this could be less, as this costs\n",
    "max_parallel_jobs = 1\n",
    "objective_metric_name = \"validation:mAP\" #on validation set map, not training \n",
    "objective_type = \"Maximize\"\n",
    "\n",
    "tuner = HyperparameterTuner(estimator = od_model,\n",
    "                            objective_metric_name = objective_metric_name,\n",
    "                            hyperparameter_ranges = hyperparameter_ranges,\n",
    "                            objective_type = objective_type,\n",
    "                            max_jobs = max_jobs,\n",
    "                            max_parallel_jobs = max_parallel_jobs          \n",
    "                           )"
   ]
  },
  {
   "cell_type": "markdown",
   "metadata": {},
   "source": [
    "Starting training job"
   ]
  },
  {
   "cell_type": "code",
   "execution_count": null,
   "metadata": {},
   "outputs": [],
   "source": [
    "train_data = sagemaker.inputs.TrainingInput(\n",
    "            s3_train_data,  #path of train data\n",
    "            distribution = \"FullyReplicated\",  #boto3 data distribution type\n",
    "            content_type = \"application/x-recordio\",\n",
    "            s3_data_type = \"S3Prefix\"\n",
    ")\n",
    "\n",
    "validation_data = sagemaker.inputs.TrainingInput(\n",
    "            s3_validation_data, #path of validation data\n",
    "            distribution = \"FullyReplicated\",\n",
    "            content_type = \"application/x-recordio\", #recordio format\n",
    "            s3_data_type = \"S3Prefix\"\n",
    ")\n",
    "\n",
    "data_channels = {\"train\": train_data, \"validation\": validation_data}"
   ]
  },
  {
   "cell_type": "code",
   "execution_count": null,
   "metadata": {},
   "outputs": [],
   "source": [
    "tuner.fit(inputs = data_channels, logs = True)   #with training job running, you can switch off the kernel instances"
   ]
  },
  {
   "cell_type": "markdown",
   "metadata": {},
   "source": [
    "The process after this is monitor in AWS Sagemaker AI and the best training job model is used for further use"
   ]
  }
 ],
 "metadata": {
  "language_info": {
   "name": "python"
  }
 },
 "nbformat": 4,
 "nbformat_minor": 2
}
