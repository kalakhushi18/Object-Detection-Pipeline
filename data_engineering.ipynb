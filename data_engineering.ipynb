{
 "cells": [
  {
   "cell_type": "markdown",
   "metadata": {},
   "source": [
    "# Data Engineering - Apache Mxnet"
   ]
  },
  {
   "cell_type": "markdown",
   "metadata": {},
   "source": [
    "Creating Dataset according to the Apache Mxnet RecordIO structure for processing training \n",
    "\n",
    "1. Format required: \n",
    "\n",
    " 222 2 5 0.000 0.4 0.3 0.9 0.44  path/to/image11.jpg\n",
    " \n",
    "id, num_cols(2), num_cols(5), label(0.000), xmin, ymin, xmax, ymax, image_path\n",
    "\n",
    "index header_column label_width className xmin ymin xmax ymax path"
   ]
  },
  {
   "cell_type": "markdown",
   "metadata": {},
   "source": [
    "Creating copy"
   ]
  },
  {
   "cell_type": "code",
   "execution_count": null,
   "metadata": {},
   "outputs": [],
   "source": [
    "train_df = train.copy()\n",
    "test_df = test.copy()"
   ]
  },
  {
   "cell_type": "markdown",
   "metadata": {},
   "source": [
    "Renaming columns"
   ]
  },
  {
   "cell_type": "code",
   "execution_count": null,
   "metadata": {},
   "outputs": [],
   "source": [
    "train_df.rename(columns = {\"LabelName\": \"className\"}, inplace = True)\n",
    "test_df.rename(columns = {\"LabelName\": \"className\"}, inplace = True)"
   ]
  },
  {
   "cell_type": "markdown",
   "metadata": {},
   "source": [
    "Creating header and label width columns"
   ]
  },
  {
   "cell_type": "code",
   "execution_count": null,
   "metadata": {},
   "outputs": [],
   "source": [
    "train_df[\"header_cols\"] = 2\n",
    "train_df[\"label_width\"] = 5"
   ]
  },
  {
   "cell_type": "markdown",
   "metadata": {},
   "source": [
    "Creating Image path columns"
   ]
  },
  {
   "cell_type": "code",
   "execution_count": null,
   "metadata": {},
   "outputs": [],
   "source": [
    "train_df[\"ImagePath\"] = \"001.Plastic_bag/images/train/\"+train_df['ImageID']+ '.jpg'\n",
    "test_df[\"ImagePath\"] = \"001.Plastic_bag/images/test/\"+test_df['ImageID']+ '.jpg'"
   ]
  },
  {
   "cell_type": "markdown",
   "metadata": {},
   "source": [
    "Arranging the dataset according to the RecordIO format"
   ]
  },
  {
   "cell_type": "code",
   "execution_count": null,
   "metadata": {},
   "outputs": [],
   "source": [
    "train_df = train_df[['header_cols', 'label_width', 'className', 'XMin', 'YMin', 'XMax', 'YMax', 'ImagePath']]\n",
    "test_df = test_df[['header_cols', 'label_width', 'className', 'XMin', 'YMin', 'XMax', 'YMax', 'ImagePath']]\n",
    "\n",
    "pd.set_option(\"display.precision\",4)\n",
    "\n",
    "final_train_df = train_df.copy()\n",
    "final_train_df['className'] = \"0.000\"\n",
    "\n",
    "final_test_df = test_df.copy()\n",
    "final_test_df['className'] = \"0.000\""
   ]
  },
  {
   "cell_type": "markdown",
   "metadata": {},
   "source": [
    "Moving Images to the new path"
   ]
  },
  {
   "cell_type": "code",
   "execution_count": null,
   "metadata": {},
   "outputs": [],
   "source": [
    "import shutil\n",
    "shutil.move('','')"
   ]
  },
  {
   "cell_type": "markdown",
   "metadata": {},
   "source": [
    "### Transposing Images: Data augmentation\n",
    "\n",
    "1. The bounding box will also transpose according to the formula: LeftRightFlip\n",
    "\n",
    "768 = image width \n",
    "\n",
    "xmin = (768/2) - (xmin - (768/2))\n",
    "\n",
    "xmax = (768/2) - (xmax - (768/2))\n",
    "\n",
    "2. The bouding box coordinates of only x axis will change\n",
    "\n",
    "3. Creatin .lst files for production "
   ]
  },
  {
   "cell_type": "code",
   "execution_count": null,
   "metadata": {},
   "outputs": [],
   "source": [
    "test_images_path = ''\n",
    "train_images_path = ''\n",
    "\n",
    "\n",
    "\n",
    "def augment_data(dataset):\n",
    "    images_path = train_images_path if dataset == \"train\" else test_images_path if dataset == \"test\" else 0\n",
    "    if images_path == 0:\n",
    "        raise Exception(\"Invalid Input parameter\")\n",
    "    start = 0\n",
    "    end = 0\n",
    "    if dataset == \"train\":\n",
    "        start,end,df = 29,45,final_train_df\n",
    "    elif dataset == \"test\":\n",
    "        start,end,df = 28,44,final_test_df\n",
    "    \n",
    "    \n",
    "    temp_df = pd.DataFrame(columns=[\"header_cols\",\"label_width\",\"className\",\"XMin\",\"YMin\",\"XMax\",\"YMax\",\"ImagePath\"],dtype = object)\n",
    "    counter = 0\n",
    "    for index,row in df.iterrows():\n",
    "        img_path = row[\"ImagePath\"]#image path in the df\n",
    "        id = img_path[start:end]\n",
    "        im_path = f\"/{dataset}/{id}.jpg\" #image path for the physical location of the image(full path\n",
    "        img = Image.open(im_path)\n",
    "        image_width,image_height = img.size\n",
    "        img_flip = img.transpose(Image.Transpose.FLIP_LEFT_RIGHT)\n",
    "        img_flip.save(f\"/{dataset}/flipped_{id}.jpg\")\n",
    "        new_image_path = f\"/{dataset}/flipped_{id}.jpg\"\n",
    "        \n",
    "        xmin = row['XMin'] * image_width\n",
    "        xmax = row['XMax'] * image_width\n",
    "        ymin = row['YMin']\n",
    "        ymax = row['YMax']\n",
    "        \n",
    "        #getting the new coordinates for the flipped bounding boxes\n",
    "        new_xmin = ((image_width/2)-(xmin-(image_width/2))) / image_width\n",
    "        new_xmax = ((image_width/2)-(xmax-(image_width/2))) / image_width\n",
    "        \n",
    "        \n",
    "        temp_df.loc[counter]=[2,5,\"0.000\",new_xmin,ymin,new_xmax,ymax,new_image_path]\n",
    "        counter +=1\n",
    "    \n",
    "    df_merged = df.append(temp_df, ignore_index = True)\n",
    "\n",
    "    df_merged.to_csv(f\"{dataset}.lst\", sep = \"\\t\", float_format = \"%.4f\", header = None)\n",
    "    print(len(df))#original df\n",
    "    print(\"augmented df length below\")\n",
    "    print(len(temp_df))"
   ]
  },
  {
   "cell_type": "markdown",
   "metadata": {},
   "source": []
  }
 ],
 "metadata": {
  "language_info": {
   "name": "python"
  }
 },
 "nbformat": 4,
 "nbformat_minor": 2
}
